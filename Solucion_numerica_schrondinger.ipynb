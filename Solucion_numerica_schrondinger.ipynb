{
  "nbformat": 4,
  "nbformat_minor": 0,
  "metadata": {
    "colab": {
      "name": "Solucion_numerica_schrondinger.ipynb",
      "provenance": [],
      "authorship_tag": "ABX9TyMSjaAWzTEmFQr8vQCaVK6R",
      "include_colab_link": true
    },
    "kernelspec": {
      "name": "python3",
      "display_name": "Python 3"
    },
    "language_info": {
      "name": "python"
    }
  },
  "cells": [
    {
      "cell_type": "markdown",
      "metadata": {
        "id": "view-in-github",
        "colab_type": "text"
      },
      "source": [
        "<a href=\"https://colab.research.google.com/github/yatzirirain/Portfolio/blob/main/Solucion_numerica_schrondinger.ipynb\" target=\"_parent\"><img src=\"https://colab.research.google.com/assets/colab-badge.svg\" alt=\"Open In Colab\"/></a>"
      ]
    },
    {
      "cell_type": "markdown",
      "metadata": {
        "id": "wz8_GBLn0Yqy"
      },
      "source": [
        "# Tarea 7. Solución númerica de la Ecuación de Schrödinger\n",
        "### Yatziri Irain Venado Peña\n",
        "\n",
        "---\n",
        "\n"
      ]
    },
    {
      "cell_type": "markdown",
      "metadata": {
        "id": "tL7f-wT60zUD"
      },
      "source": [
        "# **Estados ligados cuánticos en un potencial arbitrario.**"
      ]
    },
    {
      "cell_type": "markdown",
      "metadata": {
        "id": "K18BtD9J06Ea"
      },
      "source": [
        "Una partícula cuántica en un estado estacionario de energía definida E se encuentra ligada por un potencial 1D. Su función de onda se determina por la ecuación de Schrödinger independiente del tiempo\n",
        "$$\\frac{d ^2 \\psi (x)}{dx^2}-\\frac{2m}{ħ^2}V(x)\\psi(x) = κ ^2 \\psi (x),~~~~~~~~~~κ^2=-\\frac{2m}{ħ^2}E$$\n",
        "Cuando la partícula está ligada, tenemos que está confinada a cierta\n",
        "región *finita* del espacio, por lo que $\\psi (x)$ es normalizable. Esto nos dice que la energía debe ser negativa para que $\\psi (x)$ decaiga exponencialmente cuando $x \\rightarrow \\pm \\infty$:\n",
        "$$f(x)= \\left\\{ \\begin{array}{lcc}\n",
        "             e^{-\\kappa x} &   \\mathrm{cuando } &x \\rightarrow + \\infty  \\\\\n",
        "             \\\\ e^{+\\kappa x} &  \\mathrm{cuando } &x \\rightarrow - \\infty \\\\\n",
        "             \\end{array}\n",
        "   \\right.$$\n",
        "Aunque la ecuación puede resolverse con algún método numérico (Runge-\n",
        "Kutta, por ejemplo), el extra aquí es que también debemos tener que la solución $\\psi (x)$ debe satisfacer las condiciones de frontera anteriores.\n",
        "\n",
        "Esta condición adicional convierte al problema de la EDO en un problema de eigenvalores en el cual existe solución solo para ciertos valores del eigenvalor E. La solución, si existe, se sigue de encontrar una energía permitida, resolver la ecuación y después variar la energía como parte de un problema de prueba y error (búsqueda de raíces) para la\n",
        "función de onda que satisfaga las condiciones de frontera. "
      ]
    },
    {
      "cell_type": "markdown",
      "metadata": {
        "id": "hUiC3RGiOaPJ"
      },
      "source": [
        "> Primero escribimos la ecuacion de Schrödinger en forma estandar $\\frac{d \\mathbf{y}(x)}{dx}=\\mathbf{f}(t,\\mathbf{y})$\n",
        ">\n",
        ">Definimos: \n",
        "$$y^{(0)}(x)=\\psi(x),~~~~y^{(1)}(x)=\\frac{d \\psi(x)}{dx}$$\n",
        "Entonces\n",
        "$$\\frac{d y^{(0)}(x)}{dx}=y^{(1)}(x)$$\n",
        "$$\\frac{d y^{(1)}(x)}{dx}=\\left(\\kappa^2+\\frac{2m}{\\hbar}V(x)\\right) y^{(0)}(x)$$\n",
        "Sea $a=\\frac{2m}{\\hbar}$\n",
        "$$f^{(0)}=y^{(1)}(x)$$\n",
        "$$f^{(1)}=\\left(V(x)-E\\right) y^{(0)}(x)$$\n",
        "Ya que tenemos el sistema simultaneo de EDOs de primer orden, aplicamos el método de Runge-Kutta de cuarto orden para integrar la funciones.\n",
        ">\n",
        ">Se calculan dos soluciones $\\psi_L$ y $\\psi_R$ que conformaran la funcion de onda.\n",
        "$$\\psi(x)= \\left\\{ \\begin{array}{lcc}\n",
        "             \\psi_L(x)  &x<x_m  \\\\\n",
        "             \\\\ \\psi_R(x) &  x>x_m\\\\\n",
        "             \\end{array}\n",
        "   \\right.$$\n",
        ">Donde $x_m$ es el radio de pegado donde se unen las funciones que calculamos como soluciones y esta dentro de la region del potencial.\n",
        ">\n",
        ">Iniciamos el calculo de $\\psi_L$ en el extremo izquierdo de nuestros valores para la posicion $x=-X$, aqui $V(-X)\\approx 0$, asi que nuestras condiciones iniciales son:\n",
        "$$\\psi_L^{(0)}(-X)=e^{-\\kappa X}$$\n",
        "$$\\psi_L^{(1)}(-X)=-\\kappa\\psi_L^{(0)}(-X)$$\n",
        "Por otro lado, iniciamos el calculo de $\\psi_R$ en el extremo derecho de nuestros valores para la posicion $x=X$, aqui igualmeente $V(X)\\approx 0$, asi que nuestras condiciones iniciales son:\n",
        "$$\\psi_D^{(0)}(X)=e^{-\\kappa X}$$\n",
        "$$\\psi_D^{(1)}(X)=\\kappa\\psi_L^{(0)}(X)$$"
      ]
    },
    {
      "cell_type": "markdown",
      "metadata": {
        "id": "6MkeK7zchtQ9"
      },
      "source": [
        "Una vez se calcularon las dos funciones con el metodo de Runge-Kutta, se normalizo $\\psi_L(x)$ para que encajara con $\\psi_L(x)$ en $x_m$."
      ]
    },
    {
      "cell_type": "markdown",
      "metadata": {
        "id": "AwOe6iTTdS7S"
      },
      "source": [
        "Para que la probabilidad y la corriente sean continuas en $x = x_m$,\n",
        "$\\psi(x)$ y $\\psi'(x)$ deben ser continuas ahí. Una condición que combina ambas y es independiente de la normalización es requerir que la\n",
        "derivada logarítmica $\\frac{\\psi'(x)}{\\psi(x)}$ sea continua."
      ]
    },
    {
      "cell_type": "markdown",
      "metadata": {
        "id": "lb3qIePRjZKM"
      },
      "source": [
        "Para medir cuanto difieren las derivadas logarítmicas en $x_m$, se define la función `Delta(E)`.\n",
        "\n",
        "Finalmente se usa el método de la bisección para hallar un valor para E talque `Delta(E)`=0 dentro de cierta tolerancia."
      ]
    },
    {
      "cell_type": "markdown",
      "metadata": {
        "id": "HAsxqNa5eSaC"
      },
      "source": [
        "Para realizar los calculos se tomo un potencial cuadrado finito de longitud 2d.\n",
        "$$V(x)= \\left\\{ \\begin{array}{lcc}\n",
        "             -V_0  &|x|\\leq d  \\\\\n",
        "             \\\\ 0 &  |x|> d \\\\\n",
        "             \\end{array}\n",
        "   \\right.$$"
      ]
    },
    {
      "cell_type": "code",
      "metadata": {
        "colab": {
          "base_uri": "https://localhost:8080/",
          "height": 226
        },
        "id": "qvarim31SY4s",
        "outputId": "fe5cc633-17b4-487a-b4bb-bcc7757f8362"
      },
      "source": [
        "from pylab import *\n",
        "# Definición de constantes\n",
        "N=1000           # Número de pasos\n",
        "X=40             # Extremo de posicion de la simulacion\n",
        "im=100           # radio de pegado\n",
        "h=X/float(N-1)   # Paso de la posicion\n",
        "m=940            # masa de la particula en eV/c*c\n",
        "hc=197.33        # h_barra*c  \n",
        "a=(2*m)/(hc**2)  # constante\n",
        "E=-15.0          # energia\n",
        "k=-a*E           # vector de onda\n",
        "\n",
        "#Definimos funcion de potencial\n",
        "#POZO CUADRADO FINITO\n",
        "d=20              #Mitad del ancho del pozo del potencial en fm\n",
        "V0=-16           #Valor del potencial dentro del pozo\n",
        "def V(x):\n",
        "  if abs(x)>d:\n",
        "    return 0\n",
        "  else:\n",
        "    return V0\n",
        "\n",
        "# Generamos posiciones igualmente espaciadas \n",
        "posicion=linspace(-X,X,2*N+1)\n",
        "\n",
        "# Generamos un arreglo de 2Nx2 para almacenar SOL IZQUIERDA                                             \n",
        "yL=zeros([2*N,2])\n",
        "# Tomamos los valores del estado inicial de la solucion izq\n",
        "yL[0,0]=exp(-k*X)   \n",
        "yL[0,1]=sqrt(k)*yL[0,0]\n",
        "\n",
        "# Generamos un arreglo de 2Nx2 para almacenar SOL DERECHA                                            \n",
        "yR=zeros([2*N,2])\n",
        "# Tomamos los valores del estado inicial de la solucion der\n",
        "yR[2*N-1,0]=exp(-k*X)  \n",
        "yR[2*N-1,1]=sqrt(k)*yR[2*N-1,0]\n",
        "\n",
        "\n",
        "#for j in range(N):\n",
        "#  print(j,posicion[j])\n",
        "\n",
        "# Definimos nuestra ecuación diferencial\n",
        "def EDO(posicion,estado,E):\n",
        "    f0=estado[1]\n",
        "    f1=a*(V(posicion)-E)*estado[0]\n",
        "    return array([f0,f1])\n",
        "\n",
        "# Método de Runge-Kutta de 4 orden para resolver numéricamente la EDO \n",
        "def rk4Algor(x,h,N,y,f,E):\n",
        "    k1=np.zeros(N); k2=np.zeros(N); k3=np.zeros(N); k4=np.zeros(N)\n",
        "    k1 = h*f(x,y,E)                             \n",
        "    k2 = h*f(x+h/2.,y+k1/2.,E)\n",
        "    k3 = h*f(x+h/2.,y+k2/2.,E)\n",
        "    k4 = h*f(x+h,y+k3,E)\n",
        "    y=y+(k1+2*(k2+k3)+k4)/6.\n",
        "    return y \n",
        "\n",
        "\n",
        "def Delta(E):\n",
        "  # Calculo solucion izquierda\n",
        "  for j in range(0,N+im):\n",
        "    yL[j+1]=rk4Algor(posicion[j],h,N,yL[j],EDO,E)\n",
        "  # Calculo solucion derecha\n",
        "  for j in range(2*N-1,N+im,-1):\n",
        "    yR[j-1]=rk4Algor(posicion[j],h,N,yR[j],EDO,E)\n",
        "  #Condicion de continuidad\n",
        "  Dizq=yL[N+im,1]/yL[N+im,0]        #Derivada log izquierda\n",
        "  Dder=yR[N+im,1]/yR[N+im,0]        #Derivada log derecha\n",
        "  return (Dizq-Dder)/(Dizq+Dder)\n",
        "\n",
        "#Metodo de biseccion para encontrar E\n",
        "Eps=0.001\n",
        "Nmax=100         #max iteraciones biseccion\n",
        "Emax=1.1*E\n",
        "Emin=E/1.1\n",
        "for i in range (Nmax):\n",
        "  E=(Emax+Emin)/2\n",
        "  if(Delta(Emax)*Delta(E)>0):\n",
        "    Emax=E\n",
        "  else:\n",
        "    Emin=E\n",
        "  if(abs(Delta(E))<Eps): break\n",
        "\n",
        "print('Energia=',E)\n",
        "\n",
        "# Calculo solucion izquierda\n",
        "for j in range(0,N+im):\n",
        "#  print(j,y[j])\n",
        "  yL[j+1]=rk4Algor(posicion[j],h,N,yL[j],EDO,E)\n",
        "\n",
        "# Calculo solucion derecha\n",
        "for j in range(2*N-1,N+im,-1):\n",
        "    yR[j-1]=rk4Algor(posicion[j],h,N,yR[j],EDO,E)\n",
        "\n",
        "#Normalizamos Psi izquierda para que encaje con Psi derecha\n",
        "Norm=yR[N+im,0]/yL[N+im,0]   #constante se normalizacion\n",
        "for j in range(0,N+im+1):\n",
        "  yL[j]=yL[j]*Norm\n",
        " \n",
        "# Datos para graficar\n",
        "xdatos=[yL[j,0] for j in range(0,N+im)]           #Psi izquierda\n",
        "zdatos=[yR[j,0] for j in range(2*N-1,N+im,-1)]    #Psi derecha\n",
        "x_izq=[posicion[j] for j in range(0,N+im)]\n",
        "x_der=[posicion[j] for j in range(2*N-1,N+im,-1)]\n",
        "\n",
        "#Grafica potencial\n",
        "Vdatos=[V(posicion[j]) for j in range(N)]\n",
        "\n",
        "plot(x_izq,xdatos,'-r')\n",
        "plot(x_der,zdatos,'-b')\n",
        "#plot(posicionn,xddatos,'-r')\n",
        "#plot(posicionn,Vdatos,'-b')\n",
        "xlabel('Posicion')\n",
        "ylabel('Posición y velocidad')\n",
        "show()"
      ],
      "execution_count": null,
      "outputs": [
        {
          "output_type": "stream",
          "name": "stdout",
          "text": [
            "Energia= -14.9720843764355\n"
          ]
        },
        {
          "output_type": "display_data",
          "data": {
            "image/png": "[encoded data removed]",
            "text/plain": [
              "<Figure size 432x288 with 1 Axes>"
            ]
          },
          "metadata": {
            "needs_background": "light"
          }
        }
      ]
    }
  ]
}