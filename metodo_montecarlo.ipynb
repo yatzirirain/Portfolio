{
  "nbformat": 4,
  "nbformat_minor": 0,
  "metadata": {
    "colab": {
      "name": "metodo_montecarlo.ipynb",
      "provenance": [],
      "collapsed_sections": [],
      "authorship_tag": "ABX9TyPxlrCwNpiG8GqFBJgZFOtF",
      "include_colab_link": true
    },
    "kernelspec": {
      "name": "python3",
      "display_name": "Python 3"
    },
    "language_info": {
      "name": "python"
    }
  },
  "cells": [
    {
      "cell_type": "markdown",
      "metadata": {
        "id": "view-in-github",
        "colab_type": "text"
      },
      "source": [
        "<a href=\"https://colab.research.google.com/github/yatzirirain/Portfolio/blob/main/metodo_montecarlo.ipynb\" target=\"_parent\"><img src=\"https://colab.research.google.com/assets/colab-badge.svg\" alt=\"Open In Colab\"/></a>"
      ]
    },
    {
      "cell_type": "markdown",
      "metadata": {
        "id": "SXzc7qw9qWUy"
      },
      "source": [
        "#  Métodos de Montecarlo\n",
        "### Yatziri Irain Venado Peña\n",
        "---\n"
      ]
    },
    {
      "cell_type": "markdown",
      "metadata": {
        "id": "HYGSGY5Kq_xM"
      },
      "source": [
        "### **1. Generador de números aleatorios.**\n",
        "\n",
        "**Generador de números pseudo-aleatorios utilizando el método de congruencias lineales.**"
      ]
    },
    {
      "cell_type": "markdown",
      "metadata": {
        "id": "WMELD9CL1qIc"
      },
      "source": [
        "Este programa nos genera una lista de numeros enteros pseudo-aleatorios en el intervalo $[0, M-1]$, primero se tiene que ingresar un valor en el intervalo (una semilla) para generar los numeros de manera recursiva:\n",
        "$$x_n=[ax_{n-1}+c ]\\mod m$$"
      ]
    },
    {
      "cell_type": "markdown",
      "source": [
        ""
      ],
      "metadata": {
        "id": "RW7_tEpS_QWs"
      }
    },
    {
      "cell_type": "code",
      "metadata": {
        "id": "xjZDI6cZrPl4"
      },
      "source": [
        "c=1\n",
        "a=4\n",
        "M=9\n",
        "x_0=3        #Semilla\n",
        "\n",
        "print(x_0)\n",
        "x=(a*x_0+c)%M\n",
        "print(x)\n",
        "\n",
        "while x!=x_0:\n",
        "  x=(a*x+c)%M\n",
        "  print(x)\n"
      ],
      "execution_count": null,
      "outputs": []
    },
    {
      "cell_type": "markdown",
      "metadata": {
        "id": "DmhtF8mrGVjY"
      },
      "source": [
        "** Tomando la sucesión anterior, se grafican los pares $(x_{2i-1}, x_{2i})$,  $i=1,2,...$**"
      ]
    },
    {
      "cell_type": "markdown",
      "metadata": {
        "id": "6Q5atcxAUQbI"
      },
      "source": [
        "**Grafica $x_i$ vs $i$.**"
      ]
    },
    {
      "cell_type": "code",
      "metadata": {
        "id": "PInyVIJBHX36",
        "colab": {
          "base_uri": "https://localhost:8080/",
          "height": 849
        },
        "outputId": "96bfecd0-1992-4447-9a08-614c59d51463"
      },
      "source": [
        "import matplotlib.pyplot as plt\n",
        "import random \n",
        "\n",
        "c=1\n",
        "a=57\n",
        "M=256\n",
        "x_0=10                 #Semilla\n",
        "\n",
        "lista=[x_0]            #Lista de numeros pseudo-aleatorios\n",
        "\n",
        "x=(a*x_0+c)%M\n",
        "\n",
        "\n",
        "while x!=x_0:\n",
        "  x=(a*x+c)%M\n",
        "  lista.append(x)\n",
        "\n",
        "N=len(lista)           #cantidad de numeros pseudo-aleatorios generados\n",
        "#print('N=',N)\n",
        "\n",
        "#for i in range(N):    #imprimir los numeros pseudo-aleatorios generados \n",
        "#  print(i,lista[i])\n",
        "\n",
        "X=[]                   #Numeros con indice impar \n",
        "Y=[]                   #Numeros con indice par\n",
        "\n",
        "for i in range (1,N,2):\n",
        "  X.append(lista[i])\n",
        "\n",
        "for i in range (2,N,2):\n",
        "  Y.append(lista[i])\n",
        "\n",
        "plt.scatter (X,Y)                                  #Grafica del inciso c)\n",
        "plt.title(\"Grafica de pares $(x_{2i-1}, x_{2i})$\")\n",
        "plt.show()\n",
        "\n",
        "\n",
        "plt.scatter (lista,range(N))                       #Grafica del inciso d)\n",
        "plt.title(\"$x_i$ vs $i$\")\n",
        "plt.show()\n",
        "\n",
        "#Prueba de uniformidad\n",
        "\n",
        "k=4\n",
        "sum=0\n",
        "\n",
        "for i in range(N):\n",
        "  if i+k >=N:\n",
        "    break\n",
        "  sum=sum+(lista[i]*lista[i+k])\n",
        "c=float(sum/N)\n",
        "print('c(k)=',c)\n",
        "\n",
        "\n",
        "#Numeros aleatorios de Python\n",
        "lista2=[]\n",
        "for i in range(N):\n",
        "  lista2.append(random.randint(0,M-1))\n",
        "\n",
        "\n",
        "plt.scatter (lista2,range(N))     #Grafica \n",
        "plt.title(\"$x_i$ vs $i$ para numeros generados con random\")\n",
        "plt.show()\n",
        "\n",
        "\n",
        "#Prueba de uniformidad de numeros generados con random\n",
        "\n",
        "k=4\n",
        "sum=0\n",
        "\n",
        "for i in range(N):\n",
        "  if i+k >=N:\n",
        "    break\n",
        "  sum=sum+(lista2[i]*lista2[i+k])\n",
        "c=float(sum/N)\n",
        "print('c(k)=',c)\n",
        "\n"
      ],
      "execution_count": null,
      "outputs": [
        {
          "output_type": "display_data",
          "data": {
            "image/png": "[encoded data removed]",
            "text/plain": [
              "<Figure size 432x288 with 1 Axes>"
            ]
          },
          "metadata": {
            "needs_background": "light"
          }
        },
        {
          "output_type": "display_data",
          "data": {
            "image/png": "[encoded data removed]",
            "text/plain": [
              "<Figure size 432x288 with 1 Axes>"
            ]
          },
          "metadata": {
            "needs_background": "light"
          }
        },
        {
          "output_type": "stream",
          "name": "stdout",
          "text": [
            "c(k)= 16238.87159533074\n"
          ]
        },
        {
          "output_type": "display_data",
          "data": {
            "image/png": "[encoded data removed]",
            "text/plain": [
              "<Figure size 432x288 with 1 Axes>"
            ]
          },
          "metadata": {
            "needs_background": "light"
          }
        },
        {
          "output_type": "stream",
          "name": "stdout",
          "text": [
            "c(k)= 17531.37354085603\n"
          ]
        }
      ]
    },
    {
      "cell_type": "markdown",
      "metadata": {
        "id": "2_Fa8dtC5BTB"
      },
      "source": [
        "**Existen diversos métodos para estudiar si un conjunto de números\n",
        "tiene o no una disribución uniforme.**"
      ]
    },
    {
      "cell_type": "markdown",
      "metadata": {
        "id": "pB0lptA5wwId"
      },
      "source": [
        "Una prueba sencilla que determina la uniformidad e independencia de los numeros generados es mediante la correlación entre vecinos cercanos de la secuencia aleatoria  tomando sumas de productos para k pequeños: \n",
        "$$C(k)=\\frac{1}{N} \\sum_{i=1}^N x_ix_{i+k}~~~~~~(k=1,2,...)$$\n",
        "\n",
        "Si los números aleatorios $x_i$ y $x_{i+k}$ se distribuyen con la distribución de probabilidad conjunta $P(x{i},x{i+k})$ y son independientes y uniformes, entonces $C(k)$ puede aproximarse como una integral:\n",
        "\n",
        "$$\\frac{1}{N} \\sum_{i=1}^N x_ix_{i+k} \\approx \\int_0^{255}  \\int_0^{255} xy~P(x,y) dx dy=\\frac{1}{255^2}\\int_0^{255}x~dx\\int_0^{255}y~dy\n",
        "=\\frac{255^2}{4}$$\n",
        "\n",
        "Donde $P(x,y)=\\frac{1}{255^2}$ porque $\\int^\\infty_\\infty \\int^\\infty_\\infty P(x,y) dx dy =1$\n",
        "\n",
        "\n",
        "Así $C(k) \\approx 16256.25$\n",
        "\n",
        "Haciendo el calculo de $C(k)$ para $k=4$ nos da 16238.87 un valor bastante cercano al esperado, (cabe recalcar que este metodo funciona para valores pequeños de k).\n",
        "\n",
        " Asi que podemos decir que la distribución tiene un comportamiento uniforme, lo cual tiene sentido ya que en la lista de números generados aparecen todos los enteros comprendidos en el intervalo y cada uno aparece una sola vez.\n",
        "Pero aún cuando la distribucion es aparentemente uniforme, no podemos afirmar la aleatoriedad de los números, cuando se grafican los pares $(x_{2i-1}, x_{2i})$ podemos notar un patron bastante evidente."
      ]
    },
    {
      "cell_type": "markdown",
      "metadata": {
        "id": "BsSgoqBuTz-z"
      },
      "source": [
        "### **2.Integración**\n",
        "**Solucion numerica de integrales mediente método de Montecarlo**\n",
        "\n",
        "(a)$$\\int ^1_0 (1-x^2)^{\\frac{3}{2}}dx$$"
      ]
    },
    {
      "cell_type": "markdown",
      "metadata": {
        "id": "Q2CpdAbhRRw4"
      },
      "source": [
        "Primero generamos una muestra de $n$ números pseudoaleatorios $\\{U_1,U_2,...,U_n\\}$ con la función `random.rand(n)` de la libreria `numpy`. Luego definimos la función a integrar, para después calcular su valor esperado, para esto sumamos todos los valores de la función evaluada en cada número pseudoaleatorio $U_i$ y dividimos esa suma entre $n$.\n",
        "Sabemos que el valor de la integral se puede aproximar como:\n",
        "\n",
        "$$\\int ^1_0 g(x)dx= E[g(U)]\\approx \\frac{1}{n}\\sum _{i=1}^{n}g(U_i)+\\varepsilon(n)$$"
      ]
    },
    {
      "cell_type": "code",
      "metadata": {
        "colab": {
          "base_uri": "https://localhost:8080/"
        },
        "id": "2Xp5iSu8s8QX",
        "outputId": "bc30a73c-fb50-4ef1-b41b-51c3c6a166a8"
      },
      "source": [
        "import numpy as np\n",
        "\n",
        "n=1000000\n",
        "U=np.random.rand(n)\n",
        "\n",
        "def g(x):\n",
        "  return (1-x**2)**(3/2)\n",
        "\n",
        "suma=0\n",
        "for i in range (n):\n",
        "  suma=suma+g(U[i])\n",
        "\n",
        "integral=suma/n \n",
        "\n",
        "print(integral)\n"
      ],
      "execution_count": null,
      "outputs": [
        {
          "output_type": "stream",
          "name": "stdout",
          "text": [
            "0.5889302393432659\n"
          ]
        }
      ]
    },
    {
      "cell_type": "markdown",
      "metadata": {
        "id": "0r9c6B_WVN6O"
      },
      "source": [
        "(b) $$\\int ^2_{-2} e^{x+x^2}dx$$"
      ]
    },
    {
      "cell_type": "markdown",
      "metadata": {
        "id": "sY5VvQOUXkJ3"
      },
      "source": [
        "Para calcular una integral en un intervalo distinto a $[0,1]$, hacemos el cambio de variable:\n",
        "$$y=\\frac{x-a}{b-a}$$\n",
        "\n",
        "\n",
        "Así:\n",
        "$$\\int ^b_a g(x)dx= \\int ^1_0 g[(b-a)y+a]~(b-a)dy=(b-a)\\int ^1_0 h(y)dy$$"
      ]
    },
    {
      "cell_type": "code",
      "metadata": {
        "colab": {
          "base_uri": "https://localhost:8080/"
        },
        "id": "YpIZ6VM6FBeu",
        "outputId": "deaaecd9-75bc-42c5-fd96-046c7f7a69be"
      },
      "source": [
        "import numpy as np\n",
        "import math\n",
        "\n",
        "n=1000000\n",
        "a=-2\n",
        "b=2\n",
        "\n",
        "U=np.random.rand(n)\n",
        "\n",
        "def g(x):\n",
        "  return math.exp(x+x**2)\n",
        " \n",
        "def h(y):\n",
        "  return g((b-a)*y+a)\n",
        "\n",
        "suma=0\n",
        "for i in range (n):\n",
        "  suma=suma+h(U[i])\n",
        "\n",
        "integral=(suma/n)*(b-a) \n",
        "\n",
        "print(integral)"
      ],
      "execution_count": null,
      "outputs": [
        {
          "output_type": "stream",
          "name": "stdout",
          "text": [
            "92.83706343496773\n"
          ]
        }
      ]
    },
    {
      "cell_type": "markdown",
      "metadata": {
        "id": "l3vIWmsQVqfS"
      },
      "source": [
        "### **3. Calculando a $\\pi$**\n",
        "**Estimacion numerica del valor de $\\pi$ mediante Montecarlo**"
      ]
    },
    {
      "cell_type": "markdown",
      "metadata": {
        "id": "lI_wuz-nmwiL"
      },
      "source": [
        "Generamos 2 conjuntos de $n$ números aleatorios $\\{X_1,X_2,...,X_n\\}$ y $\\{Y_1,Y_2,...,Y_n\\}$, y formamos $n$ pares ordenados $(X_i,Y_i)$.\n",
        "Cada par representa un punto en el plano $xy$ y tendrán en principio una distribuición uniforme en el cuadrado $[0,1]\\times[0,1]$, contamos los $k$ puntos que cumplen con la condicion $X_i^2+Y_i^2 \\leq 1$, es decir los que estan adentro de la fraccion de círculo unitario en el primer cuadrante.\n",
        "Así:\n",
        "$$\\frac{k}{n}\\approx \\frac{\\pi}{4}$$\n",
        "\n"
      ]
    },
    {
      "cell_type": "code",
      "metadata": {
        "colab": {
          "base_uri": "https://localhost:8080/"
        },
        "id": "AHZoD5bzLK3n",
        "outputId": "f14b3d2f-4167-4e84-cea3-5ef6c017d92e"
      },
      "source": [
        "import numpy as np\n",
        "import matplotlib.pyplot as plt\n",
        "from pylab import *\n",
        "\n",
        "n=1000000\n",
        "k=0\n",
        "\n",
        "x=np.random.rand(n)\n",
        "y=np.random.rand(n)\n",
        "\n",
        "def z(x,y):\n",
        "  return x*x+y*y\n",
        "\n",
        "for i in range(n):\n",
        "    if z(x[i],y[i])<=1.0:\n",
        "        k=k+1\n",
        "\n",
        "pi=4.0*(k/n)                                      \n",
        "print(pi) "
      ],
      "execution_count": null,
      "outputs": [
        {
          "output_type": "stream",
          "name": "stdout",
          "text": [
            "3.141356\n"
          ]
        }
      ]
    }
  ]
}